{
 "cells": [
  {
   "cell_type": "markdown",
   "metadata": {},
   "source": [
    "# Projects NLA 2017"
   ]
  },
  {
   "cell_type": "markdown",
   "metadata": {},
   "source": [
    "| Team | Project title | Resourses |\n",
    "|:------:|:----------:|:----------|\n",
    "| Liliya Ageeva <br> Sergey Makarychev <br> Aleksandr Rozhnov <br> Anton Zhevnerchuk | Low-rank approximations for large incomplete matrices | [Presentation](./presentations/lowrank_completion.pdf) <br> [Source code](https://github.com/zhevnerchuk/matrix-filling) |\n",
    "|Sergey Divakov <br> Anastasia Koloskova <br> Alfredo De la Fuente <br> Vladislav Pimanov | Dynamic programming on tensors for solving the problem of dependency parsing in NLP | [Presentation](./presentations/dynprog_tensors4nlp.pdf) <br> [Source code](https://github.com/divserge/pcfg_parser) |\n",
    "|Ivan Okhmatovskii <br> Polina Belozerova <br> Mozhde Shiranirad <br> Airat Kotliyar-Shapirov | Comparison of the most popular methods for reconstruction MRI images | [Presentation](./presentations/capacity_management.pdf) <br> [Source code](https://github.com/okhmat/RadonTransform) |\n",
    "| Aleksandr Safin <br> Ivan Rodin <br> Maxim Kaledin | Key words extraction from news | [Presentation](./presentations/keyword_extraction.pdf) <br> [Source code](https://github.com/XuMuK1/KeywordsExtraction) |\n",
    "| Artem Sevastopolsky <br> Sergey Samsonov <br> Ekateriva Ivanova <br> Mikhail Yakhlakov | Accelerations of Kaczmarz method for solving ill-conditioned linear systems | [Presentation](./presentations/accel_Kaczmarz.pdf) <br> [Source code](https://github.com/seva100/kaczmarz-modifications/) |\n",
    "| Iurii Kemaev <br> Maxim Kuznetsov <br> Eugenii Nikishin  | Actor-critic algorithm with approximate natural policy gradient | [Presentation](./presentations/actor_critic.pdf) <br> [Source code](https://github.com/nikishin-evg/acktr_pytorch/) |\n",
    "| Egor Nuzhin <br> Iurii Minin <br> Alexey Boyko | Inverse design of 2D wave devices with optimization | [Presentation](./presentations/inverse_2D.pdf) <br> [Source code](https://github.com/archilless/projectwave2d)  |\n",
    "| Nikita Gryaznov <br> Anton Pankratov <br> Yuriy Tavyrykov | Deep Compression | [Presentation](./presentations/deep_compression.pdf) <br> [Source code](https://github.com/Tenich/deep_compression) |\n",
    "| Anna Petrovskaia <br> Aleksey Uvarov <br> Cosmos Daniel <br> Abdul-ganiy Usman | Gaussian process regression fast solver | [Presentation](./presentations/gauss_regression.pdf) <br> [Source code](https://github.com/petrovskaia/kriging-fast-solver) |\n",
    "| Alexander Nekrashevich <br> Aibek Alanov <br> Filippos Kokkinos <br> Sergey Pozdnyakov <br> Dmitiy Salnikov |  Air Cargo Capacity Management | [Presentation](./presentations/mri_reconstruction.pdf) |\n",
    "|Anastasiia Baiandina <br> Iurii Kolomeitsev |Hybrid SVD for Text Mining| [Presentation](./presentations/hsvd_text_mining.pdf)|\n",
    "| Satyarth Mishra Sharma <br> Vadim Liventsev <br> Artur Grigorev <br> Phan Van Duc <br> Shreya Santra | Optimization of multi-origin travel search | [Presentation](./presentations/multi_origin_travel_search.pdf) |\n",
    "| Ilia Krotov <br> Denis Prokopenko <br> Valentina Shumovskaia <br> Andrei Znobishchev | Spooky Author Identification | [Presentation](./presentations/author_identify.pdf) | \n",
    "| Kupchenko Leonid <br> Grecia Diaz | Efficient energy use of local and remote data processing | [Presentation](./presentations/efficient_energy.pdf) <br> [Source code](https://github.com/greciaarabeli/Efficient-energy-use-of-local-and-remote-data-processing-) |"
   ]
  }
 ],
 "metadata": {
  "kernelspec": {
   "display_name": "Python [conda env:p3]",
   "language": "python",
   "name": "conda-env-p3-py"
  },
  "language_info": {
   "codemirror_mode": {
    "name": "ipython",
    "version": 3
   },
   "file_extension": ".py",
   "mimetype": "text/x-python",
   "name": "python",
   "nbconvert_exporter": "python",
   "pygments_lexer": "ipython3",
   "version": "3.6.0"
  }
 },
 "nbformat": 4,
 "nbformat_minor": 2
}
