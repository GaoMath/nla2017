{
 "cells": [
  {
   "cell_type": "markdown",
   "metadata": {},
   "source": [
    "# Table of contents"
   ]
  },
  {
   "cell_type": "markdown",
   "metadata": {},
   "source": [
    "**Course instructor: **\n",
    "Ivan Oseledets\n",
    "\n",
    "** TAs:**\n",
    "Maxim Rakhuba,\n",
    "Marina Munkhoeva,\n",
    "Alexandr Katrutsa,\n",
    "Artem Nikitin,\n",
    "Valentin Khrulkov,\n",
    "Daniil Merkulov,\n",
    "Evgeny Ponomarev"
   ]
  },
  {
   "cell_type": "markdown",
   "metadata": {},
   "source": [
    "| Week | Lecture notebooks | Supplementary materials | Homework | Tests |\n",
    "|:------:|:----------|:----------|:----------|-------|\n",
    "|1| [General info](lectures/lecture-0.ipynb)  <br> [Lecture 1 (Floating-point arithmetic, vector norms)](lectures/lecture-1.ipynb) <br> [Lecture 2 (Matrix norms, unitary matrices)](lectures/lecture-2.ipynb) <br> [Lecture 3 (Matvecs and matmuls, memory hierarchy, Strassen algorithm)](lectures/lecture-3.ipynb) | [Lecture 2 notes](lectures/notes/Nla2017-lec2.pdf) <br> [Notes on derivatives](lectures/notes/seminar_cookbook.pdf) <br> [Python tutorial](./lectures/Python_Intro.ipynb) <br> [Matrix Cookbook](./matrixcookbook.pdf) | [Requirements](hw.pdf) <br> [Problem set 1](psets/pset1.ipynb) <br> Deadline: 12/11/17 (11:59 pm) | | \n",
    "|2| [Lecture 4 (Skeleton decomposition, SVD and its applications)](lectures/lecture-4.ipynb) <br> [Lecture 5 (Linear systems)](./lectures/lecture-5.ipynb) | [SVD RecSys demo](./lectures/SVD_RecSys.ipynb) | | |\n",
    "|3| [Lecture 6 (Eigenvalues and eigenvectors)](lectures/lecture-6.ipynb) | |[Problem set 2](psets/pset2.ipynb) <br> Deadline: 26/11/17 (11:59 pm) | |"
   ]
  }
 ],
 "metadata": {
  "anaconda-cloud": {},
  "kernelspec": {
   "display_name": "Python [conda env:p3]",
   "language": "python",
   "name": "conda-env-p3-py"
  },
  "language_info": {
   "codemirror_mode": {
    "name": "ipython",
    "version": 3
   },
   "file_extension": ".py",
   "mimetype": "text/x-python",
   "name": "python",
   "nbconvert_exporter": "python",
   "pygments_lexer": "ipython3",
   "version": "3.6.0"
  },
  "nav_menu": {},
  "toc": {
   "navigate_menu": true,
   "number_sections": true,
   "sideBar": true,
   "threshold": 6,
   "toc_cell": false,
   "toc_section_display": "block",
   "toc_window_display": false
  }
 },
 "nbformat": 4,
 "nbformat_minor": 1
}
