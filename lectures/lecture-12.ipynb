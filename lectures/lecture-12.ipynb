{
 "cells": [
  {
   "cell_type": "code",
   "execution_count": null,
   "metadata": {
    "collapsed": true,
    "slideshow": {
     "slide_type": "skip"
    }
   },
   "outputs": [],
   "source": [
    "from traitlets.config.manager import BaseJSONConfigManager\n",
    "import jupyter_core\n",
    "#path = \"/home/damian/miniconda3/envs/rise_latest/etc/jupyter/nbconfig\"\n",
    "path = \"/Users/i.oseledets/anaconda2/envs/teaching/etc/jupyter/nbconfig\"\n",
    "cm = BaseJSONConfigManager(config_dir=path)\n",
    "cm.update(\"livereveal\", {\n",
    "              \"theme\": \"sky\",\n",
    "              \"transition\": \"zoom\",\n",
    "              \"start_slideshow_at\": \"selected\",\n",
    "               \"scroll\": True\n",
    "})"
   ]
  },
  {
   "cell_type": "markdown",
   "metadata": {
    "slideshow": {
     "slide_type": "slide"
    }
   },
   "source": [
    "# Lecture 12:  Iterative methods-2"
   ]
  },
  {
   "cell_type": "markdown",
   "metadata": {
    "slideshow": {
     "slide_type": "slide"
    }
   },
   "source": [
    "## Previous lecture\n",
    "- Arnoldi orthogonalization of Krylov subspaces\n",
    "- Lanczos for the symmetric case\n",
    "- Energy functional and conjugate gradient method\n",
    "- Convergence analysis\n",
    "- Non-symmetric case: idea of GMRES"
   ]
  },
  {
   "cell_type": "markdown",
   "metadata": {
    "slideshow": {
     "slide_type": "slide"
    }
   },
   "source": [
    "## Today lecture\n",
    "- More iterative methods \n",
    "- The concept of preconditioners"
   ]
  },
  {
   "cell_type": "markdown",
   "metadata": {
    "slideshow": {
     "slide_type": "slide"
    }
   },
   "source": [
    "## What methods to use\n",
    "\n",
    "- If a matrix is symmetric (Hermitian) positive definite, use CG method.\n",
    "- If a matrix is symmetric by indefinite, we can use MINRES method (GMRES applied to a symmetric system)\n",
    "- If a matrix is non-symmetric and not very big, use GMRES\n",
    "- Ia a matrix is non-symmetric and we can store limited amount of vectors, use either: GMRES with restarts, or BiCGStab (the latter of the product with $A^{\\top}$ is also available)."
   ]
  },
  {
   "cell_type": "markdown",
   "metadata": {
    "slideshow": {
     "slide_type": "slide"
    }
   },
   "source": [
    "## MINRES\n",
    "\n",
    "The MINRES method is GMRES applied to a symmetric system. We minimize\n",
    "\n",
    "$$\\Vert A Q_j x_j - f \\Vert = \\Vert Q_j \\widehat{x}_j + h_{j, j-1} q_j \\widehat{x}_j - f \\Vert = \\Vert Q_{j+1} \\widehat{H}_{j+1}  \\widehat{x}_j - f \\Vert \\rightarrow \\min$$\n",
    "\n",
    "which is equivalent to a linear least squares with an **almost tridiagonal** matrix\n",
    "\n",
    "$$\\Vert \\widehat{H}_{j+1} x_{j} - \\gamma e_0 \\Vert \\rightarrow \\min.$$\n",
    "\n",
    "In a similar fashion, we can derive short-term recurrences.\n",
    "\n",
    "A careful implementation of MINRES requires at most $5$ vectors to be stored."
   ]
  },
  {
   "cell_type": "markdown",
   "metadata": {
    "slideshow": {
     "slide_type": "slide"
    }
   },
   "source": [
    "## Difference between MINRES and CG\n",
    "- MINRES minimizes $\\Vert Ax_k - f \\Vert$ over the Krylov subspace\n",
    "- CG minimize $(Ax, x) - 2(f, x)$ over the Krylov subspace\n",
    "- MINRES works for indefinite (i.e., non-positive definite) problems.\n",
    "\n",
    "CG stores less vectors ($3$ instead of $5$). \n",
    "\n",
    "Now, let us talk about non-symmetric systems."
   ]
  },
  {
   "cell_type": "markdown",
   "metadata": {
    "slideshow": {
     "slide_type": "slide"
    }
   },
   "source": [
    "## Non-symmetric systems\n",
    "The main disadvantage of GMRES: we have to store all the vectors, so the memory cost grows with each step.  \n",
    "\n",
    "We can do  **restarts** (i.e. get a new residual and a new Krylov subspace): we find some approximate solution $x$ \n",
    "\n",
    "and now solve the linear system for the correction:\n",
    "\n",
    "$$A(x + e) = f, \\quad Ae = f - Ax,$$\n",
    "\n",
    "and generate the new **Krylov subspace** from the residual vector. This spoils the convergence, as we will see from the demo.\n",
    "\n",
    "BiConjugate gradient (named **BiCg**, proposed by Fletcher) avoids that using \"short recurrences\" like in the CG method.\n",
    "\n",
    "It is very unstable in the original form, thus a stabilized version has been proposed (named **BiCgStab**)."
   ]
  },
  {
   "cell_type": "markdown",
   "metadata": {
    "slideshow": {
     "slide_type": "slide"
    }
   },
   "source": [
    "## Idea of biconjugate gradient\n",
    "\n",
    "Idea of BiCG method is to use the normal equations:\n",
    "\n",
    "$$A^* A x = A^* f,$$\n",
    "\n",
    "and apply the CG method to it.\n",
    "\n",
    "The condition number has squared, thus we need **stabilization**.\n",
    "\n",
    "The stabilization idea proposed by Van der Vorst et al. improves the stability.\n",
    "\n",
    "Let us do some demo for a simple non-symmetric matrix."
   ]
  },
  {
   "cell_type": "code",
   "execution_count": 2,
   "metadata": {
    "slideshow": {
     "slide_type": "slide"
    }
   },
   "outputs": [
    {
     "data": {
      "text/plain": [
       "<matplotlib.legend.Legend at 0x7f9fc097db00>"
      ]
     },
     "execution_count": 2,
     "metadata": {},
     "output_type": "execute_result"
    },
    {
     "data": {
      "image/png": "[encoded data removed]",
      "text/plain": [
       "<matplotlib.figure.Figure at 0x7f9fc8841588>"
      ]
     },
     "metadata": {},
     "output_type": "display_data"
    }
   ],
   "source": [
    "#### import numpy as np\n",
    "import scipy.sparse.linalg\n",
    "%matplotlib inline\n",
    "import matplotlib.pyplot as plt\n",
    "import numpy as np\n",
    "import scipy as sp\n",
    "n = 300\n",
    "ex = np.ones(n);\n",
    "lp1 = -sp.sparse.spdiags(np.vstack((ex,  -(2 + 1./n)*ex, (1 + 1./n) * ex)), [-1, 0, 1], n, n, 'csr'); \n",
    "rhs = np.ones(n)\n",
    "ee = sp.sparse.eye(n)\n",
    "\n",
    "#lp2 = sp.kron(lp1, ee) + sp.kron(ee, lp1)\n",
    "#rhs = np.ones(n * n)\n",
    "res_all = []\n",
    "res_all_no = []\n",
    "res_all_bicg = []\n",
    "def my_print(r):\n",
    "    res_all.append(r)\n",
    "    \n",
    "def my_print1(r):\n",
    "    res_all_no.append(r)\n",
    "\n",
    "def my_print2(x): #For BiCGStab they have another callback, please rewrite\n",
    "    res_all_bicg.append(np.linalg.norm(lp1.dot(x) - rhs))\n",
    "    \n",
    "#res_all_bicg = np.array(res_all_bicg)\n",
    "sol = scipy.sparse.linalg.gmres(lp1, rhs, restart=20, callback=my_print)\n",
    "sol1 = scipy.sparse.linalg.gmres(lp1, rhs, restart=n, callback=my_print1)\n",
    "sol2 = scipy.sparse.linalg.bicgstab(lp1, rhs, x0=np.zeros(n), callback=my_print2)\n",
    "res_all_bicg = np.array(res_all_bicg)/res_all_bicg[0]\n",
    "\n",
    "lim = 350\n",
    "plt.semilogy(res_all[:lim], marker='.',color='k', label='GMRES, restart=20')\n",
    "plt.semilogy(res_all_no[:lim], marker='x',color='r', label='GMRES, no restart')\n",
    "plt.semilogy(res_all_bicg[:lim], label='BiCGStab', marker='o')\n",
    "\n",
    "plt.xlabel('Iteration number')\n",
    "plt.ylabel('Residual')\n",
    "plt.legend(loc='best')"
   ]
  },
  {
   "cell_type": "markdown",
   "metadata": {
    "slideshow": {
     "slide_type": "slide"
    }
   },
   "source": [
    "## Notes about BiCG\n",
    "\n",
    "A practical implementation of BiCG uses **two-sided Lanczos process** "
   ]
  },
  {
   "cell_type": "code",
   "execution_count": 3,
   "metadata": {
    "slideshow": {
     "slide_type": "slide"
    }
   },
   "outputs": [
    {
     "data": {
      "text/plain": [
       "<matplotlib.legend.Legend at 0x7f9fc005deb8>"
      ]
     },
     "execution_count": 3,
     "metadata": {},
     "output_type": "execute_result"
    },
    {
     "data": {
      "image/png": "[encoded data removed]",
      "text/plain": [
       "<matplotlib.figure.Figure at 0x7f9fec2cfe80>"
      ]
     },
     "metadata": {},
     "output_type": "display_data"
    }
   ],
   "source": [
    "#### import numpy as np\n",
    "import scipy.sparse.linalg\n",
    "%matplotlib inline\n",
    "import matplotlib.pyplot as plt\n",
    "from scipy.sparse.linalg import minres, gmres\n",
    "import numpy as np\n",
    "import scipy as sp\n",
    "n = 300\n",
    "ex = np.ones(n);\n",
    "lp1 = -sp.sparse.spdiags(np.vstack((ex,  -(2 + 1./n)*ex, (1 + 1./n) * ex)), [-1, 0, 1], n, n, 'csr'); \n",
    "rhs = np.ones(n)\n",
    "ee = sp.sparse.eye(n)\n",
    "\n",
    "#lp2 = sp.kron(lp1, ee) + sp.kron(ee, lp1)\n",
    "#rhs = np.ones(n * n)\n",
    "res_all = []\n",
    "res_all_no = []\n",
    "res_all_bicg = []\n",
    "def my_print(r):\n",
    "    res_all.append(r)\n",
    "    \n",
    "def my_print1(r):\n",
    "    res_all_no.append(r)\n",
    "\n",
    "def my_print2(x): #For BiCGStab they have another callback, please rewrite\n",
    "    res_all_bicg.append(np.linalg.norm(lp1.dot(x) - rhs))\n",
    "    \n",
    "#res_all_bicg = np.array(res_all_bicg)\n",
    "sol = scipy.sparse.linalg.gmres(lp1, rhs, callback=my_print)\n",
    "sol1 = scipy.sparse.linalg.gmres(lp1, rhs, restart=n, callback=my_print1)\n",
    "sol2 = scipy.sparse.linalg.bicgstab(lp1, rhs, x0=np.zeros(n), callback=my_print2)\n",
    "res_all_bicg = np.array(res_all_bicg)/res_all_bicg[0]\n",
    "\n",
    "lim = 350\n",
    "plt.semilogy(res_all[:lim], marker='.',color='k', label='GMRES, restart=20')\n",
    "plt.semilogy(res_all_no[:lim], marker='x',color='r', label='GMRES, no restart')\n",
    "plt.semilogy(res_all_bicg[:lim], label='BiCGStab', marker='o')\n",
    "\n",
    "plt.xlabel('Iteration number')\n",
    "plt.ylabel('Residual')\n",
    "plt.legend(loc='best')"
   ]
  },
  {
   "cell_type": "markdown",
   "metadata": {
    "slideshow": {
     "slide_type": "slide"
    }
   },
   "source": [
    "##  BiConjugate Gradients\n",
    "\n",
    "There are two options:\n",
    "\n",
    "1. Use $K(A^* A, A^* f)$ to generate the subspace. That leads to square of condition number\n",
    "2. Instead, use two Krylov subspaces $K(A)$ and $K(A^*)$ to generate two basises that are **biorthogonal** (so-called biorthogonal Lanczos).\n",
    "\n",
    "The goal is to compute the Petrov-Galerkin projection \n",
    "\n",
    "$$W^* A V \\widehat{x} = W^* f$$\n",
    "\n",
    "with columns $W$ from the Krylov subspace of $A^*$, $V$ from $A$. \n",
    "\n",
    "That may lead to instabilities if we try to recompute the solutions in the efficient way. It is related to the **pivoting** (which we did not use in CG), and it is not naturally implemented here."
   ]
  },
  {
   "cell_type": "markdown",
   "metadata": {
    "slideshow": {
     "slide_type": "slide"
    }
   },
   "source": [
    "## BiCGStab\n",
    "\n",
    "BiCGStab is frequently used, and represent a **stabilized** version of BiCG. It has faster and smoother convergence than original BiCG method.\n",
    "\n",
    "\n",
    "The formulas can be found, for example, here https://en.wikipedia.org/wiki/Biconjugate_gradient_stabilized_method\n",
    "\n",
    "It is a combination of BiCG step followed by GMRES(1) step in order to smooth the convergence.\n",
    "\n",
    "For more detailed reading, please consult the book \"Iterative Krylov Methods for Large Linear Systems\" by H. Van-der Voorst.\n",
    "\n",
    "A short demo to compare \"Stabilized\" vs \"Non-stabilized\" versions."
   ]
  },
  {
   "cell_type": "code",
   "execution_count": 4,
   "metadata": {
    "slideshow": {
     "slide_type": "slide"
    }
   },
   "outputs": [
    {
     "data": {
      "text/plain": [
       "<matplotlib.legend.Legend at 0x7f9fbbdee438>"
      ]
     },
     "execution_count": 4,
     "metadata": {},
     "output_type": "execute_result"
    },
    {
     "data": {
      "image/png": "[encoded data removed]",
      "text/plain": [
       "<matplotlib.figure.Figure at 0x7f9fec28d390>"
      ]
     },
     "metadata": {},
     "output_type": "display_data"
    }
   ],
   "source": [
    "#### import numpy as np\n",
    "import scipy.sparse.linalg\n",
    "%matplotlib inline\n",
    "import matplotlib.pyplot as plt\n",
    "from scipy.sparse.linalg import minres, gmres\n",
    "import numpy as np\n",
    "import scipy as sp\n",
    "n = 300\n",
    "ex = np.ones(n);\n",
    "lp1 = -sp.sparse.spdiags(np.vstack((ex,  -(2 + 1./n)*ex, (1 + 1./n) * ex)), [-1, 0, 1], n, n, 'csr'); \n",
    "rhs = np.random.randn(n)\n",
    "ee = sp.sparse.eye(n)\n",
    "\n",
    "#lp2 = sp.kron(lp1, ee) + sp.kron(ee, lp1)\n",
    "#rhs = np.ones(n * n)\n",
    "res_all_bicg = []\n",
    "res_all_bicgstab = []\n",
    "\n",
    "def my_print3(x):\n",
    "    res_all_bicg.append(np.linalg.norm(lp1.dot(x) - rhs))\n",
    "\n",
    "def my_print2(x): #For BiCGStab they have another callback, please rewrite\n",
    "    res_all_bicgstab.append(np.linalg.norm(lp1.dot(x) - rhs))\n",
    "    \n",
    "#res_all_bicg = np.array(res_all_bicg)\n",
    "sol2 = scipy.sparse.linalg.bicg(lp1, rhs, x0=np.zeros(n), callback=my_print3)\n",
    "sol2 = scipy.sparse.linalg.bicgstab(lp1, rhs, x0=np.zeros(n), callback=my_print2)\n",
    "res_all_bicg = np.array(res_all_bicg)/res_all_bicg[0]\n",
    "res_all_bicgstab = np.array(res_all_bicgstab)/res_all_bicgstab[0]\n",
    "\n",
    "lim = 350\n",
    "plt.semilogy(res_all_bicgstab[:lim], marker='.',color='k', label='BiCGStab')\n",
    "plt.semilogy(res_all_bicg[:lim], marker='x',color='r', label='BiCG')\n",
    "\n",
    "plt.xlabel('Iteration number')\n",
    "plt.ylabel('Residual')\n",
    "plt.legend(loc='best')"
   ]
  },
  {
   "cell_type": "markdown",
   "metadata": {
    "slideshow": {
     "slide_type": "slide"
    }
   },
   "source": [
    "## \"Nonlinear GMRES\" or Anderson acceleration\n",
    "\n",
    "We can apply the GMRES-like idea to speed up the convergence of a given fixed-point iteration\n",
    "\n",
    "$$x_{k+1} = \\Phi(x_k).$$\n",
    "\n",
    "This was actually older than the GMRES, and known as an Direct Inversion in Iterated Subspaces in Quantum Chemistry, or **Anderson Acceleration**.\n",
    "\n",
    "Idea: **use history** for the update\n",
    "\n",
    "$$x_{k+1} = \\Phi(x_k) + \\sum_{s=1}^m \\alpha_s (x_{k - s} - \\Phi(x_{k - s})), $$\n",
    "\n",
    "and the parameters $\\alpha_s$ are selected to minimize the norm of the residual\n",
    "\n",
    "$$ \\min_{\\alpha} \\left \\| \\sum_{s=1}^m \\alpha_s (x_{k - s} - \\Phi(x_{k - s})) \\right\\|_2, \\quad \\sum_{s=1}^m \\alpha_s = 1$$\n",
    "\n",
    "More details see in the original [paper](https://users.wpi.edu/~walker/Papers/Walker-Ni,SINUM,V49,1715-1735.pdf)"
   ]
  },
  {
   "cell_type": "markdown",
   "metadata": {
    "slideshow": {
     "slide_type": "slide"
    }
   },
   "source": [
    "## Battling the condition number\n",
    "\n",
    "The condition number problem is **un-avoidable** if only the matrix-by-vector product is used.\n",
    "\n",
    "Thus we need an **army of preconditioners** to solve it.\n",
    "\n",
    "There are several **general purpose** preconditioners that we can use, but often for a particular problem a special design is needed."
   ]
  },
  {
   "cell_type": "markdown",
   "metadata": {
    "slideshow": {
     "slide_type": "slide"
    }
   },
   "source": [
    "## Preconditioner: general concept\n",
    "\n",
    "The general concept of the preconditioner is simple:\n",
    "\n",
    "Given a linear system \n",
    "\n",
    "$$A x = f,$$\n",
    "\n",
    "we want to find the matrix $P_R$ and/or $P_L$ such that \n",
    "\n",
    "1. Condition number of $AP_R^{-1}$ (right preconditioner) or $P^{-1}_LA$ (right preconditioner) or $P^{-1}_L A P_R^{-1}$ is better than for $A$\n",
    "2. We can easily solve $P_Ly = g$ or $P_Ry = g$ for any $g$ (otherwise we could choose e.g. $P_L = A$)\n",
    "\n",
    "Then we solve for (right preconditioner)\n",
    "\n",
    "$$ AP_R^{-1} y = f \\quad \\Rightarrow \\quad P_R x = y$$ \n",
    "\n",
    "or  (left preconditioner)\n",
    "\n",
    "$$ P_L^{-1} A x = P_L^{-1}f,$$ \n",
    "or even both\n",
    "$$ P_L^{-1} A P_R^{-1} y = P_L^{-1}f \\quad \\Rightarrow \\quad P_R x = y.$$ \n",
    "\n",
    "The best choice is of course $P = A,$ but this does not make life easier.\n",
    "\n",
    "One of the ideas is to use other iterative methods (beside Krylov) as preconditioners."
   ]
  },
  {
   "cell_type": "markdown",
   "metadata": {
    "slideshow": {
     "slide_type": "slide"
    }
   },
   "source": [
    "## Other iterative methods as preconditioners\n",
    "There are other iterative methods that we have not mentioned. \n",
    "\n",
    "1. Jacobi method\n",
    "2. Gauss-Seidel\n",
    "3. SOR (Successive over-relaxation)"
   ]
  },
  {
   "cell_type": "markdown",
   "metadata": {
    "slideshow": {
     "slide_type": "slide"
    }
   },
   "source": [
    "## Jacobi method (as preconditioner)\n",
    "\n",
    "Consider again the matrix with non-zero diagonal. To get the **Jacobi method** is when you express the diagonal element:\n",
    "\n",
    "$$a_{ii} x_i = -\\sum_{i \\ne j} a_{ij} x_j + f_i$$\n",
    "\n",
    "and use this to iteratively update $x_i$:\n",
    "$$ x_i^{(k+1)} = -\\frac{1}{a_{ii}}\\left( \\sum_{i \\ne j} a_{ij} x_j^{(k)} + f_i \\right),$$\n",
    "or in the matrix form\n",
    "$$\n",
    "x^{(k+1)} = D^{-1}\\left((D-A)x^{(k)} + f\\right) \n",
    "$$\n",
    "where $D = \\mathrm{diag}(A)$ and finally\n",
    "$$\n",
    "x^{(k+1)} = x^{(k)} - D^{-1}(Ax^{(k)} - f).\n",
    "$$\n",
    "\n",
    "So, Jacobi method is nothing, but simple Richardson iteration with $\\tau=1$ and left preconditioner $P = D$ - diagonal of a matrix. Therefore we will refer to $P = \\mathrm{diag}(A)$ as **Jacobi preconditioner**. Note that it can be used for any other method like Chebyshev or Krylov-type methods."
   ]
  },
  {
   "cell_type": "markdown",
   "metadata": {
    "slideshow": {
     "slide_type": "slide"
    }
   },
   "source": [
    "## Properties of the Jacobi preconditioner\n",
    "\n",
    "Jacobi preconditioner:\n",
    "\n",
    "1. Very easy to compute and apply\n",
    "2. Works well for diagonally dominant matrices (remember the Gershgorin circle theorem!)\n",
    "3. Useless if all diagonal entries are the same (proportional to the identity matrix)"
   ]
  },
  {
   "cell_type": "markdown",
   "metadata": {
    "slideshow": {
     "slide_type": "slide"
    }
   },
   "source": [
    "## Gauss-Seidel (as preconditioner)\n",
    "Another well-known method is **Gauss-Seidel method**. \n",
    "\n",
    "Its canonical form is very similar to the Jacobi method, with a small difference. When we update $x_i$ as\n",
    "\n",
    "$$x_i^{(k+1)} := -\\frac{1}{a_{ii}}\\left( \\sum_{j =1}^{i-1} a_{ij} x_j^{(k+1)} +\\sum_{j = i+1}^n a_{ij} x_j^{(k)} - f_i \\right)$$\n",
    "\n",
    "we **use it in the later updates**. In the Jacobi method we use the full vector from the previous iteration.\n",
    "\n",
    "Its matrix form is more complicated."
   ]
  },
  {
   "cell_type": "markdown",
   "metadata": {
    "slideshow": {
     "slide_type": "slide"
    }
   },
   "source": [
    "## Gauss-Seidel: matrix version\n",
    "\n",
    "Given $A = A^{*} > 0$ we have  \n",
    "\n",
    "$$A = L + D + L^{*},$$\n",
    "\n",
    "where $D$ is the diagonal of $A$, $L$ is lower-triangular part with zero on the diagonal.\n",
    "\n",
    "One iteration of the GS method reads\n",
    "$$\n",
    "x^{(k+1)} = x^{(k)} - (L + D)^{-1}(Ax^{(k)} - f).\n",
    "$$\n",
    "and we refer to the preconditioner $P = L+D$ as **Gauss-Seidel preconditioner**.\n",
    "\n",
    "**Good news: ** $\\rho(I - (L+D)^{-1} A) < 1, $\n",
    "\n",
    "where $\\rho$ is the spectral radius,\n",
    "\n",
    "i.e. for a positive definite matrix GS-method always converges."
   ]
  },
  {
   "cell_type": "markdown",
   "metadata": {
    "slideshow": {
     "slide_type": "slide"
    }
   },
   "source": [
    "## Gauss-Seidel and coordinate descent\n",
    "\n",
    "GS-method can be viewed as a coordinate descent method, applied to the energy functional\n",
    "\n",
    "$$F(x) = (Ax, x) - 2(f, x)$$\n",
    "\n",
    "with the iteration \n",
    "\n",
    "$$x_i := \\arg \\min_z F(x_1, \\ldots, x_{i-1}, z, x_{i+1}, \\ldots, x_d).$$\n",
    "\n",
    "Moreover, the order in which we eliminate variables, is really important!"
   ]
  },
  {
   "cell_type": "markdown",
   "metadata": {
    "slideshow": {
     "slide_type": "slide"
    }
   },
   "source": [
    "## Side note: Nonlinear Gauss-Seidel (a.k.a coordinate descent)\n",
    "If $F$ is given, and we optimize one coordinate at a time, we have\n",
    "\n",
    "\n",
    "$$x_i := \\arg \\min_z F(x_1, \\ldots, x_{i-1}, z, x_{i+1}, \\ldots, x_d).$$\n",
    "\n",
    "**Note** the convergence result for block coordinate descent for the case of a general functional $F$: \n",
    "\n",
    "it converges locally with the speed of the GS-method applied to the **Hessian** $$H = \\nabla^2 F$$ of the functional.\n",
    "\n",
    "Thus, if $F$ is twice differentiable and $x_*$ is the local minimum, then $H > 0$ can Gauss-Seidel converges."
   ]
  },
  {
   "cell_type": "markdown",
   "metadata": {
    "slideshow": {
     "slide_type": "slide"
    }
   },
   "source": [
    "## Successive overrelaxation (as preconditioner)\n",
    "\n",
    "We can even introduce a parameter into the GS-method preconditioner, giving a **successive over-relaxation** (**SOR**) method:\n",
    "\n",
    "$$\n",
    "x^{(k+1)} = x^{(k)} - \\omega (D + \\omega L)^{-1}(Ax^{(k)} - f).\n",
    "$$\n",
    "\n",
    "$$P = \\frac{1}{\\omega}(D+\\omega L).$$\n",
    "\n",
    "Converges for $0<\\omega < 2$. Optimal selection of $\\omega$ is **not trivial**. Note that $\\omega = 1$ gives us a Gauss-Seidel preconditioner.\n"
   ]
  },
  {
   "cell_type": "markdown",
   "metadata": {
    "slideshow": {
     "slide_type": "slide"
    }
   },
   "source": [
    "## Preconditioners for sparse matrices\n",
    "\n",
    "If $A$ is sparse, one iteration of Jacobi, GS and SOR method is cheap. \n",
    "\n",
    "For GS, we need to solve linear system with a sparse triangular matrix $L$, which costs $\\mathcal{O}(nnz)$.\n",
    "\n",
    "For sparse matrices, however, there are more complicated algorithms, based on the idea of **approximate** LU-decomposition.\n",
    "\n",
    "Remember the motivation for CG: possibility of the early stopping, how to do approximate LU-decomposition for a sparse matrix? "
   ]
  },
  {
   "cell_type": "markdown",
   "metadata": {
    "slideshow": {
     "slide_type": "slide"
    }
   },
   "source": [
    "## Remember the Gaussian elimination\n",
    "Let us remember the basic method for solving linear systems:\n",
    "\n",
    "Decompose the matrix $A$ in the form \n",
    "\n",
    "$$A = P_1 L U P^{\\top}_2, $$\n",
    "\n",
    "where $P_1$ and $P_2$ are certain **permutation** matrices (which do the pivoting).\n",
    "\n",
    "The most natural idea is to use **sparse** $L$ and $U$. \n",
    "\n",
    "It is not possible without **fill-in** growth for example for matrices, coming from 2D/3D Partial Differential equations (PDEs).\n",
    "\n",
    "What to do?"
   ]
  },
  {
   "cell_type": "markdown",
   "metadata": {
    "slideshow": {
     "slide_type": "slide"
    }
   },
   "source": [
    "## Incomplete LU\n",
    "\n",
    "\n",
    "Suppose you want to eliminate a variable $x_1$,\n",
    "\n",
    "and the equations have the form\n",
    "\n",
    "$$5 x_1 + x_4 + x_{10} = 1, \\quad 3 x_1 + x_4 + x_8 = 0, \\ldots,$$\n",
    "\n",
    "and in all other equations $x_1$ are not present. \n",
    "\n",
    "After the elimination, only $x_{10}$ will enter additionally to the second equation (new fill-in).\n",
    "\n",
    "$$x_4 + x_8 + 3(1 - x_4 - x_{10})/5 = 0$$\n",
    "\n",
    "In the Incomplete $LU$ case (actually, ILU(0)) we just throw away the **new fill-in**."
   ]
  },
  {
   "cell_type": "markdown",
   "metadata": {
    "slideshow": {
     "slide_type": "slide"
    }
   },
   "source": [
    "## Incomplete-LU: formal definition\n",
    "\n",
    "We run the usual LU-decomposition cycle, but avoid inserting non-zeros **other** than the initial non-zero pattern. \n",
    "\n",
    "```python\n",
    "    L = np.zeros((n, n))\n",
    "    U = np.zeros((n, n))\n",
    "    for k in range(n): #Eliminate one row   \n",
    "        L[k, k] = 1\n",
    "        for i in range(k+1, n):\n",
    "            L[i, k] = a[i, k] / a[k, k]\n",
    "            for j in range(k+1, n):\n",
    "                a[i, j] = a[i, j] - L[i, k] * a[k, j]  #New fill-ins appear here\n",
    "        for j in range(k, n):\n",
    "            U[k, j] = a[k, j]\n",
    "```"
   ]
  },
  {
   "cell_type": "markdown",
   "metadata": {
    "slideshow": {
     "slide_type": "slide"
    }
   },
   "source": [
    "## ILU(k)\n",
    "\n",
    "Yousef Saad (who is the author of GMRES) also had a seminal paper on the **Incomplete LU** decomposition\n",
    "\n",
    "A good book on the topic is Saad, Yousef (1996), Iterative methods for sparse linear systems \n",
    "\n",
    "And he proposed **ILU(k)** method, which has a nice interpretation in terms of graphs."
   ]
  },
  {
   "cell_type": "markdown",
   "metadata": {
    "slideshow": {
     "slide_type": "slide"
    }
   },
   "source": [
    "## ILU(k): idea\n",
    "\n",
    "The idea of ILU(k) is very instructive and is based on the connection between sparse matrices and graphs.\n",
    "\n",
    "Suppose you have an $n \\times n$ matrix $A$ and a corresponding adjacency graph.\n",
    "\n",
    "Then we eliminate one variable (vertex) and get a smaller system of size $(n-1) \\times (n-1)$.\n",
    "\n",
    "New edges (=fill-in) appears between high-order neighbors."
   ]
  },
  {
   "cell_type": "markdown",
   "metadata": {
    "slideshow": {
     "slide_type": "slide"
    }
   },
   "source": [
    "## LU & graphs\n",
    "\n",
    "The new edge can appear only between vertices that had common neighbour: it means, that they are second-order neigbours.  This is also a sparsity pattern of the matrix \n",
    "\n",
    "$$A^2.$$\n",
    "\n",
    "The **ILU(k)** idea is to leave only the elements in $L$ and $U$ that are $k$-order neighbours in the original graph.\n",
    "\n",
    "The ILU(2) is very efficient, but for some reason completely abandoned (i.e. there is no implementation in MATLAB and scipy).\n",
    "\n",
    "There is an original Sparsekit software by Saad, which works quite well."
   ]
  },
  {
   "cell_type": "markdown",
   "metadata": {
    "slideshow": {
     "slide_type": "slide"
    }
   },
   "source": [
    "## ILU Thresholded (ILUT)\n",
    "A much more popular approach is based on the so-called **thresholded LU**.\n",
    "\n",
    "You do the standard Gaussian elimination with fill-ins, but either:\n",
    "\n",
    "- Throw away elements that are smaller than threshold, and/or control the amount of non-zeros you are allowed to store.\n",
    "\n",
    "- The smaller is the threshold, the better is the preconditioner, but more memory it takes.\n",
    "\n",
    "It is denoted ILUT($\\tau$)."
   ]
  },
  {
   "cell_type": "markdown",
   "metadata": {
    "slideshow": {
     "slide_type": "slide"
    }
   },
   "source": [
    "## Symmetric positive definite case\n",
    "\n",
    "In the SPD case, instead of incomplete LU you should use Incomplete Cholesky, which is twice faster and consumes twice less memory.\n",
    "\n",
    "Both **ILUT** and **Ichol** are implemented in scipy and you can try (nothing quite fancy, but it works)."
   ]
  },
  {
   "cell_type": "markdown",
   "metadata": {
    "slideshow": {
     "slide_type": "slide"
    }
   },
   "source": [
    "## Second-order LU preconditioners\n",
    "\n",
    "There is a more efficient (but much less popular due to the limit of open-source implementations) **second-order** LU factorization [proposed by I. Kaporin](http://www.researchgate.net/profile/I_Kaporin/publication/242940993_High_quality_preconditioning_of_a_general_symmetric_positive_definite_matrix_based_on_its_UTU__UTR__RTU-decomposition/links/53f72ad90cf2888a74976f54.pdf)\n",
    "\n",
    "The idea is to approximate the matrix in the form\n",
    "\n",
    "$$A \\approx U_2 U^{\\top}_2 + U^{\\top}_2 R_2 + R^{\\top}_2 U_2,$$\n",
    "\n",
    "which is just the expansion of the $UU^{\\top}$ with respect to the perturbation of $U$. \n",
    "\n",
    "where $U_1$ and $U_2$ are low-triangular and sparse, whereare $R_2$ is small with respect to the drop tolerance parameter.\n",
    "\n"
   ]
  },
  {
   "cell_type": "markdown",
   "metadata": {
    "slideshow": {
     "slide_type": "slide"
    }
   },
   "source": [
    "## What else?\n",
    "Besides the ILU/IC approaches, there is a very efficient approach, called **algebraic multigrid (AMG)**.\n",
    "\n",
    "It was first proposed by Ruge and Stuben in 1987.\n",
    "\n",
    "It is probably the only **black-box** method that is asymptotically optimal for 2D/3D problems \n",
    "\n",
    "(at least, for elliptic problems).\n",
    "\n",
    "The idea comes from the **geometric multigrid**.\n",
    "\n",
    "\n"
   ]
  },
  {
   "cell_type": "markdown",
   "metadata": {
    "slideshow": {
     "slide_type": "slide"
    }
   },
   "source": [
    "## Multigrid: just the basic idea\n",
    "The basic idea of the multigrid is to consider a set of problems on **coarser meshes** (instead of the original problem).\n",
    "\n",
    "Then we solve a system on a coarse mesh, and interpolate it to a finer mesh.\n",
    "\n",
    "Geometric multigrid uses the information about the meshes, operators, discretization..\n",
    "\n",
    "AMG method tries to guess it from the **matrix**.\n",
    "\n",
    "More in the **FastPDE course** :)"
   ]
  },
  {
   "cell_type": "markdown",
   "metadata": {
    "slideshow": {
     "slide_type": "slide"
    }
   },
   "source": [
    "## Summary of this part\n",
    "\n",
    "- Jacobi, Gauss-Seidel, SSOR (as preconditioners)\n",
    "- Incomplete LU, three flavours: ILU(k), ILUT, ILU2"
   ]
  },
  {
   "cell_type": "markdown",
   "metadata": {
    "slideshow": {
     "slide_type": "slide"
    }
   },
   "source": [
    "## Iterative methods for other NLA problems\n",
    "\n",
    "Up to now, we only talked about the iterative methods for **linear systems**.\n",
    "\n",
    "There are other important large-scale problems:\n",
    "\n",
    "1. (Partial) Eigenvalue problem: $Ax_k = \\lambda_k x_k.$\n",
    "2. (Partial) SVD problem: $A v_k = \\sigma_k u_k, \\quad A^* u_k = \\sigma_k v_k$.\n",
    "\n",
    "**It is extremely difficult to compute all eigenvalues/singular values of a matrix**\n",
    "\n",
    "(singular vectors / eigenvectors are not sparse, so we need to store them all!).\n",
    "\n",
    "But it is possible to solve **partial eigenvalue problems**. \n",
    "\n",
    "Recall, that the SVD follows from the symmetric eigenvalue problem."
   ]
  },
  {
   "cell_type": "markdown",
   "metadata": {
    "slideshow": {
     "slide_type": "slide"
    }
   },
   "source": [
    "## Iterative method for eigenvalue problems\n",
    "\n",
    "We started the journey through iterative methods from the power method to compute the eigenvector, corresponding to the largest eigenvalue.\n",
    "\n",
    "$$x := \\frac{Ax}{\\Vert Ax \\Vert}.$$\n",
    "\n",
    "The solution obviously lies in the Krylov space. \n",
    "\n",
    "In the general symmetric case, this eigenvector maximizes the **Rayleigh quotient**\n",
    "\n",
    "$$ x_* = \\arg \\max_x \\frac{(Ax, x)}{(x, x)}.$$\n",
    "\n",
    "Thus, we can try to look for the approximate solution in a subspace $Q$, and find the coefficients from the reduced eigenvalue problem\n",
    "\n",
    "$$(Q^* A Q) \\widehat{x} = \\widehat{\\lambda} \\widehat{x},$$\n",
    "\n",
    "with the hope that the eigenvalue of $Q^* A Q$ will converge to the eigenvalue of $A$.\n",
    "\n",
    "The machinery is similar to linear systems."
   ]
  },
  {
   "cell_type": "markdown",
   "metadata": {
    "slideshow": {
     "slide_type": "slide"
    }
   },
   "source": [
    "## General Krylov scheme for eigenvalues\n",
    "\n",
    "A general Krylov-Arnoldi-Lanczos scheme would be as follows: \n",
    "\n",
    "1. Generate the basis in the $j$-th Krylov subspace\n",
    "2. Compute the Galerkin projection $A_j = Q^*_j A Q_j$\n",
    "3. Compute (some of) the eigenvalues of $A_j$ (also called **Ritz values**) as an approximation to the eigenvalues of $A$."
   ]
  },
  {
   "cell_type": "markdown",
   "metadata": {
    "slideshow": {
     "slide_type": "slide"
    }
   },
   "source": [
    "## Difficulties\n",
    "\n",
    "There are advantages/difficulties of this approach. \n",
    "- Approximation to several eigenvalues obtained simultaneouslu\n",
    "- At each step we need to recompute eigenvalues/eigenvectors of a tridiagonal (in the symmetric case) matrix $A$, and there is no simple update formula, and there is no way to efficiently recompute the eigenvalue/eigenvector in an efficient way (compared to linear system)\n",
    "- Thus, no robust stopping criteta is availabl\n"
   ]
  },
  {
   "cell_type": "markdown",
   "metadata": {
    "slideshow": {
     "slide_type": "slide"
    }
   },
   "source": [
    "## Alternatives\n",
    "\n",
    "As an alternative, there are several methods:\n",
    "\n",
    "- Jacobi-Davidson\n",
    "- Locally Optimal Block Conjugate Gradient \n",
    "- Inverse iteration\n",
    "\n",
    "They focus on some of the eigenvalues and use different principles."
   ]
  },
  {
   "cell_type": "markdown",
   "metadata": {
    "slideshow": {
     "slide_type": "slide"
    }
   },
   "source": [
    "## Next lecture\n",
    "\n",
    "- Eigenvalue problems in more details."
   ]
  },
  {
   "cell_type": "markdown",
   "metadata": {
    "slideshow": {
     "slide_type": "slide"
    }
   },
   "source": [
    "# Questions?"
   ]
  },
  {
   "cell_type": "code",
   "execution_count": 41,
   "metadata": {
    "slideshow": {
     "slide_type": "skip"
    }
   },
   "outputs": [
    {
     "data": {
      "text/html": [
       "<link href='http://fonts.googleapis.com/css?family=Fenix' rel='stylesheet' type='text/css'>\n",
       "<link href='http://fonts.googleapis.com/css?family=Alegreya+Sans:100,300,400,500,700,800,900,100italic,300italic,400italic,500italic,700italic,800italic,900italic' rel='stylesheet' type='text/css'>\n",
       "<link href='http://fonts.googleapis.com/css?family=Source+Code+Pro:300,400' rel='stylesheet' type='text/css'>\n",
       "<style>\n",
       "    @font-face {\n",
       "        font-family: \"Computer Modern\";\n",
       "        src: url('http://mirrors.ctan.org/fonts/cm-unicode/fonts/otf/cmunss.otf');\n",
       "    }\n",
       "    div.cell{\n",
       "        /*width:80%;*/\n",
       "        /*margin-left:auto !important;\n",
       "        margin-right:auto;*/\n",
       "    }\n",
       "    h1 {\n",
       "        font-family: 'Alegreya Sans', sans-serif;\n",
       "    }\n",
       "    h2 {\n",
       "        font-family: 'Fenix', serif;\n",
       "    }\n",
       "    h3{\n",
       "\t\tfont-family: 'Fenix', serif;\n",
       "        margin-top:12px;\n",
       "        margin-bottom: 3px;\n",
       "       }\n",
       "\th4{\n",
       "\t\tfont-family: 'Fenix', serif;\n",
       "       }\n",
       "    h5 {\n",
       "        font-family: 'Alegreya Sans', sans-serif;\n",
       "    }\t   \n",
       "    div.text_cell_render{\n",
       "        font-family: 'Alegreya Sans',Computer Modern, \"Helvetica Neue\", Arial, Helvetica, Geneva, sans-serif;\n",
       "        line-height: 1.2;\n",
       "        font-size: 120%;\n",
       "        /*width:70%;*/\n",
       "        /*margin-left:auto;*/\n",
       "        margin-right:auto;\n",
       "    }\n",
       "    .CodeMirror{\n",
       "            font-family: \"Source Code Pro\";\n",
       "\t\t\tfont-size: 90%;\n",
       "    }\n",
       "/*    .prompt{\n",
       "        display: None;\n",
       "    }*/\n",
       "    .text_cell_render h1 {\n",
       "        font-weight: 200;\n",
       "        font-size: 50pt;\n",
       "\t\tline-height: 110%;\n",
       "        color:#CD2305;\n",
       "        margin-bottom: 0.5em;\n",
       "        margin-top: 0.5em;\n",
       "        display: block;\n",
       "    }\t\n",
       "    .text_cell_render h5 {\n",
       "        font-weight: 300;\n",
       "        font-size: 16pt;\n",
       "        color: #CD2305;\n",
       "        font-style: italic;\n",
       "        margin-bottom: .5em;\n",
       "        margin-top: 0.5em;\n",
       "        display: block;\n",
       "    }\n",
       "    \n",
       "    li {\n",
       "        line-height: 110%;\n",
       "    }\n",
       "    .warning{\n",
       "        color: rgb( 240, 20, 20 )\n",
       "        }  \n",
       "\n",
       "</style>\n",
       "\n",
       "<script>\n",
       "    MathJax.Hub.Config({\n",
       "                        TeX: {\n",
       "                           extensions: [\"AMSmath.js\"]\n",
       "                           },\n",
       "                tex2jax: {\n",
       "                    inlineMath: [ ['$','$'], [\"\\\\(\",\"\\\\)\"] ],\n",
       "                    displayMath: [ ['$$','$$'], [\"\\\\[\",\"\\\\]\"] ]\n",
       "                },\n",
       "                displayAlign: 'center', // Change this to 'center' to center equations.\n",
       "                \"HTML-CSS\": {\n",
       "                    styles: {'.MathJax_Display': {\"margin\": 4}}\n",
       "                }\n",
       "        });\n",
       "</script>\n"
      ],
      "text/plain": [
       "<IPython.core.display.HTML object>"
      ]
     },
     "execution_count": 41,
     "metadata": {},
     "output_type": "execute_result"
    }
   ],
   "source": [
    "from IPython.core.display import HTML\n",
    "def css_styling():\n",
    "    styles = open(\"./styles/custom.css\", \"r\").read()\n",
    "    return HTML(styles)\n",
    "css_styling()"
   ]
  }
 ],
 "metadata": {
  "anaconda-cloud": {},
  "celltoolbar": "Slideshow",
  "kernelspec": {
   "display_name": "Python [conda env:p3]",
   "language": "python",
   "name": "conda-env-p3-py"
  },
  "language_info": {
   "codemirror_mode": {
    "name": "ipython",
    "version": 3
   },
   "file_extension": ".py",
   "mimetype": "text/x-python",
   "name": "python",
   "nbconvert_exporter": "python",
   "pygments_lexer": "ipython3",
   "version": "3.6.0"
  },
  "nav_menu": {},
  "toc": {
   "navigate_menu": true,
   "number_sections": false,
   "sideBar": true,
   "threshold": 6,
   "toc_cell": false,
   "toc_section_display": "block",
   "toc_window_display": false
  }
 },
 "nbformat": 4,
 "nbformat_minor": 1
}
